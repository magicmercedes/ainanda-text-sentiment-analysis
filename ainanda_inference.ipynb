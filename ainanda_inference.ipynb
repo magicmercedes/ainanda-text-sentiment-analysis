{
  "nbformat": 4,
  "nbformat_minor": 0,
  "metadata": {
    "colab": {
      "name": "ainanda_inference.ipynb",
      "provenance": [],
      "collapsed_sections": [],
      "toc_visible": true,
      "include_colab_link": true
    },
    "kernelspec": {
      "name": "python3",
      "display_name": "Python 3"
    },
    "language_info": {
      "name": "python"
    },
    "widgets": {
      "application/vnd.jupyter.widget-state+json": {
        "f33b460a5d4849449117ea42a29fa1cc": {
          "model_module": "@jupyter-widgets/controls",
          "model_name": "VBoxModel",
          "state": {
            "_view_name": "VBoxView",
            "_dom_classes": [
              "widget-interact"
            ],
            "_model_name": "VBoxModel",
            "_view_module": "@jupyter-widgets/controls",
            "_model_module_version": "1.5.0",
            "_view_count": null,
            "_view_module_version": "1.5.0",
            "box_style": "",
            "layout": "IPY_MODEL_e13b98e241db400bab4020e830adca11",
            "_model_module": "@jupyter-widgets/controls",
            "children": [
              "IPY_MODEL_286a8df535f54282a73e6ba0f82b375b",
              "IPY_MODEL_21359a9edee94458900fa08d5dbf52f7"
            ]
          }
        },
        "e13b98e241db400bab4020e830adca11": {
          "model_module": "@jupyter-widgets/base",
          "model_name": "LayoutModel",
          "state": {
            "_view_name": "LayoutView",
            "grid_template_rows": null,
            "right": null,
            "justify_content": null,
            "_view_module": "@jupyter-widgets/base",
            "overflow": null,
            "_model_module_version": "1.2.0",
            "_view_count": null,
            "flex_flow": null,
            "width": null,
            "min_width": null,
            "border": null,
            "align_items": null,
            "bottom": null,
            "_model_module": "@jupyter-widgets/base",
            "top": null,
            "grid_column": null,
            "overflow_y": null,
            "overflow_x": null,
            "grid_auto_flow": null,
            "grid_area": null,
            "grid_template_columns": null,
            "flex": null,
            "_model_name": "LayoutModel",
            "justify_items": null,
            "grid_row": null,
            "max_height": null,
            "align_content": null,
            "visibility": null,
            "align_self": null,
            "height": null,
            "min_height": null,
            "padding": null,
            "grid_auto_rows": null,
            "grid_gap": null,
            "max_width": null,
            "order": null,
            "_view_module_version": "1.2.0",
            "grid_template_areas": null,
            "object_position": null,
            "object_fit": null,
            "grid_auto_columns": null,
            "margin": null,
            "display": null,
            "left": null
          }
        },
        "286a8df535f54282a73e6ba0f82b375b": {
          "model_module": "@jupyter-widgets/controls",
          "model_name": "TextModel",
          "state": {
            "_view_name": "TextView",
            "style": "IPY_MODEL_638e265558dd44ad8439a9d953b4d1a1",
            "_dom_classes": [],
            "description": "text",
            "_model_name": "TextModel",
            "placeholder": "​",
            "_view_module": "@jupyter-widgets/controls",
            "_model_module_version": "1.5.0",
            "value": "they should be here",
            "_view_count": null,
            "disabled": false,
            "_view_module_version": "1.5.0",
            "continuous_update": true,
            "description_tooltip": null,
            "_model_module": "@jupyter-widgets/controls",
            "layout": "IPY_MODEL_e8ab2fc4303e46b9a7be739fb2dbb86f"
          }
        },
        "21359a9edee94458900fa08d5dbf52f7": {
          "model_module": "@jupyter-widgets/output",
          "model_name": "OutputModel",
          "state": {
            "_view_name": "OutputView",
            "msg_id": "",
            "_dom_classes": [],
            "_model_name": "OutputModel",
            "outputs": [
              {
                "output_type": "display_data",
                "metadata": {
                  "tags": []
                },
                "text/plain": "{'Emoji': '😐', 'Label': 'Neutral', 'Score': 0.5754445791244507}"
              }
            ],
            "_view_module": "@jupyter-widgets/output",
            "_model_module_version": "1.0.0",
            "_view_count": null,
            "_view_module_version": "1.0.0",
            "layout": "IPY_MODEL_e9b2324739f448b0900fa6a5d7fe7cff",
            "_model_module": "@jupyter-widgets/output"
          }
        },
        "638e265558dd44ad8439a9d953b4d1a1": {
          "model_module": "@jupyter-widgets/controls",
          "model_name": "DescriptionStyleModel",
          "state": {
            "_view_name": "StyleView",
            "_model_name": "DescriptionStyleModel",
            "description_width": "",
            "_view_module": "@jupyter-widgets/base",
            "_model_module_version": "1.5.0",
            "_view_count": null,
            "_view_module_version": "1.2.0",
            "_model_module": "@jupyter-widgets/controls"
          }
        },
        "e8ab2fc4303e46b9a7be739fb2dbb86f": {
          "model_module": "@jupyter-widgets/base",
          "model_name": "LayoutModel",
          "state": {
            "_view_name": "LayoutView",
            "grid_template_rows": null,
            "right": null,
            "justify_content": null,
            "_view_module": "@jupyter-widgets/base",
            "overflow": null,
            "_model_module_version": "1.2.0",
            "_view_count": null,
            "flex_flow": null,
            "width": null,
            "min_width": null,
            "border": null,
            "align_items": null,
            "bottom": null,
            "_model_module": "@jupyter-widgets/base",
            "top": null,
            "grid_column": null,
            "overflow_y": null,
            "overflow_x": null,
            "grid_auto_flow": null,
            "grid_area": null,
            "grid_template_columns": null,
            "flex": null,
            "_model_name": "LayoutModel",
            "justify_items": null,
            "grid_row": null,
            "max_height": null,
            "align_content": null,
            "visibility": null,
            "align_self": null,
            "height": null,
            "min_height": null,
            "padding": null,
            "grid_auto_rows": null,
            "grid_gap": null,
            "max_width": null,
            "order": null,
            "_view_module_version": "1.2.0",
            "grid_template_areas": null,
            "object_position": null,
            "object_fit": null,
            "grid_auto_columns": null,
            "margin": null,
            "display": null,
            "left": null
          }
        },
        "e9b2324739f448b0900fa6a5d7fe7cff": {
          "model_module": "@jupyter-widgets/base",
          "model_name": "LayoutModel",
          "state": {
            "_view_name": "LayoutView",
            "grid_template_rows": null,
            "right": null,
            "justify_content": null,
            "_view_module": "@jupyter-widgets/base",
            "overflow": null,
            "_model_module_version": "1.2.0",
            "_view_count": null,
            "flex_flow": null,
            "width": null,
            "min_width": null,
            "border": null,
            "align_items": null,
            "bottom": null,
            "_model_module": "@jupyter-widgets/base",
            "top": null,
            "grid_column": null,
            "overflow_y": null,
            "overflow_x": null,
            "grid_auto_flow": null,
            "grid_area": null,
            "grid_template_columns": null,
            "flex": null,
            "_model_name": "LayoutModel",
            "justify_items": null,
            "grid_row": null,
            "max_height": null,
            "align_content": null,
            "visibility": null,
            "align_self": null,
            "height": null,
            "min_height": null,
            "padding": null,
            "grid_auto_rows": null,
            "grid_gap": null,
            "max_width": null,
            "order": null,
            "_view_module_version": "1.2.0",
            "grid_template_areas": null,
            "object_position": null,
            "object_fit": null,
            "grid_auto_columns": null,
            "margin": null,
            "display": null,
            "left": null
          }
        }
      }
    }
  },
  "cells": [
    {
      "cell_type": "markdown",
      "metadata": {
        "id": "view-in-github",
        "colab_type": "text"
      },
      "source": [
        "<a href=\"https://colab.research.google.com/github/magicmercedes/ainanda-text-sentiment-analysis/blob/main/ainanda_inference.ipynb\" target=\"_parent\"><img src=\"https://colab.research.google.com/assets/colab-badge.svg\" alt=\"Open In Colab\"/></a>"
      ]
    },
    {
      "cell_type": "markdown",
      "metadata": {
        "id": "DauhzGoqYaIJ"
      },
      "source": [
        "#AInanda inference Demo\n",
        "\n",
        "A quick intro to using the pre-trained AInanda model to detect sentiment of text."
      ]
    },
    {
      "cell_type": "markdown",
      "metadata": {
        "id": "v1W_pB16bzRU"
      },
      "source": [
        "##Install required packages"
      ]
    },
    {
      "cell_type": "code",
      "metadata": {
        "id": "JF8WcMnuK60n"
      },
      "source": [
        "# Scikit-learn\n",
        "from sklearn.preprocessing import LabelEncoder\n",
        "from sklearn.metrics import confusion_matrix, classification_report, accuracy_score\n",
        "from sklearn.manifold import TSNE\n",
        "\n",
        "# Keras\n",
        "from keras.preprocessing.text import Tokenizer\n",
        "from keras.preprocessing.sequence import pad_sequences\n",
        "from keras.models import load_model \n",
        "\n",
        "\n",
        "# Word2vec\n",
        "import gensim\n",
        "from gensim.models import Word2Vec\n",
        "\n",
        "import re\n",
        "import numpy as np\n",
        "import os\n",
        "from collections import Counter\n",
        "import logging\n",
        "import time\n",
        "import pickle\n",
        "import itertools\n",
        "import pandas as pd\n",
        "\n",
        "import warnings \n",
        "warnings.filterwarnings(\"ignore\")"
      ],
      "execution_count": null,
      "outputs": []
    },
    {
      "cell_type": "markdown",
      "metadata": {
        "id": "iesG-CaOYNqB"
      },
      "source": [
        "##Download and extract Pretrained model\n",
        "Download the pretrained  model from google drive"
      ]
    },
    {
      "cell_type": "code",
      "metadata": {
        "id": "KSMawccBWgtU",
        "colab": {
          "base_uri": "https://localhost:8080/"
        },
        "outputId": "a599dcea-8c5a-4152-9631-23e2be951261"
      },
      "source": [
        "fileId = '146mZJzhphx77nF98UoX-jC-PM2b1ikL6'  #ID code of pretrained model file\n",
        "\n",
        "from zipfile import ZipFile\n",
        "from shutil import copy\n",
        "from pydrive.auth import GoogleAuth\n",
        "from pydrive.drive import GoogleDrive\n",
        "from google.colab import auth\n",
        "from oauth2client.client import GoogleCredentials\n",
        "\n",
        "#OAouth\n",
        "auth.authenticate_user()\n",
        "gauth = GoogleAuth()\n",
        "gauth.credentials = GoogleCredentials.get_application_default()\n",
        "drive = GoogleDrive(gauth)\n",
        "\n",
        "#code for download file from google drive\n",
        "fileName = 'pretrained_model.zip'\n",
        "downloaded = drive.CreateFile({'id': fileId})\n",
        "downloaded.GetContentFile(fileName)\n",
        "\n",
        "#Extract zip file\n",
        "ds = ZipFile(fileName)\n",
        "ds.extractall()\n",
        "os.remove(fileName)\n",
        "print('Extracted zip file ' + fileName)"
      ],
      "execution_count": null,
      "outputs": [
        {
          "output_type": "stream",
          "text": [
            "Extracted zip file pretrained_model.zip\n"
          ],
          "name": "stdout"
        }
      ]
    },
    {
      "cell_type": "markdown",
      "metadata": {
        "id": "VbLC88uzY7Y0"
      },
      "source": [
        "##Create Model and Load Trained Weights"
      ]
    },
    {
      "cell_type": "code",
      "metadata": {
        "id": "v1sQTEJJZ_po"
      },
      "source": [
        "#load the pretrained weights\n",
        "w2v_model = Word2Vec.load('/content/pretrained_model/ainanda_model_v1.w2v') \n",
        "model = load_model('/content/pretrained_model/ainanda_model_v1.h5') \n",
        "with open('/content/pretrained_model/tokenizer.pkl', 'rb') as handle: tokenizer = pickle.load(handle) \n",
        "with open('/content/pretrained_model/encoder.pkl', 'rb') as handle: encoder = pickle.load(handle)"
      ],
      "execution_count": null,
      "outputs": []
    },
    {
      "cell_type": "code",
      "metadata": {
        "id": "4XoX25-2MLNg"
      },
      "source": [
        "# This function enables us to predict the labels of the text input on the basis of the trained model.\n",
        "\n",
        "def predict_text(text):\n",
        "  x_test = pad_sequences(tokenizer.texts_to_sequences([text]), maxlen=300) # Tokenize text\n",
        "  score = model.predict([x_test])[0] #\n",
        "  \n",
        "  if score <= 0.4:\n",
        "      label = 'Negative'\n",
        "      emoji = '\\U0001F641'  #Unicode symbol for negative\n",
        "  elif score >= 0.6:\n",
        "        label = 'Positive'\n",
        "        emoji = '\\U0001F60A' #Unicode symbol for positive\n",
        "  else:        \n",
        "          label = 'Neutral'\n",
        "          emoji = '\\U0001F610' #Unicode symbol for neutral\n",
        " \n",
        "  return {\"Label\": label, \"Score\": float(score), \"Emoji\":emoji}\n"
      ],
      "execution_count": null,
      "outputs": []
    },
    {
      "cell_type": "markdown",
      "metadata": {
        "id": "odfu68owBbW7"
      },
      "source": [
        "\n",
        "Run text sentiment analysis"
      ]
    },
    {
      "cell_type": "code",
      "metadata": {
        "id": "gND65JHlcf4n",
        "colab": {
          "base_uri": "https://localhost:8080/"
        },
        "outputId": "0ca9cbce-38c3-4276-e032-ab0157ab6c62"
      },
      "source": [
        "#Run detection\n",
        "predict_text(\"they should be here\")"
      ],
      "execution_count": null,
      "outputs": [
        {
          "output_type": "execute_result",
          "data": {
            "text/plain": [
              "{'Emoji': '😐', 'Label': 'Neutral', 'Score': 0.5754445791244507}"
            ]
          },
          "metadata": {
            "tags": []
          },
          "execution_count": 25
        }
      ]
    },
    {
      "cell_type": "markdown",
      "metadata": {
        "id": "0_zD9TVTdUHV"
      },
      "source": [
        "##GUI demo \n",
        "\n"
      ]
    },
    {
      "cell_type": "code",
      "metadata": {
        "id": "fbuIecLR_iQt"
      },
      "source": [
        "#to start using the library we need to install the ipywidgets extension\n",
        "!pip install -q ipywidgets"
      ],
      "execution_count": null,
      "outputs": []
    },
    {
      "cell_type": "code",
      "metadata": {
        "id": "F7OBMw7lnsYA",
        "colab": {
          "base_uri": "https://localhost:8080/",
          "height": 84,
          "referenced_widgets": [
            "f33b460a5d4849449117ea42a29fa1cc",
            "e13b98e241db400bab4020e830adca11",
            "286a8df535f54282a73e6ba0f82b375b",
            "21359a9edee94458900fa08d5dbf52f7",
            "638e265558dd44ad8439a9d953b4d1a1",
            "e8ab2fc4303e46b9a7be739fb2dbb86f",
            "e9b2324739f448b0900fa6a5d7fe7cff"
          ]
        },
        "outputId": "f604de27-50ad-4519-b9ba-5bfd0ca9d16f"
      },
      "source": [
        "from ipywidgets import interact, widgets\n",
        "from IPython.display import display\n",
        "\n",
        "interact(predict_text, text='')"
      ],
      "execution_count": null,
      "outputs": [
        {
          "output_type": "display_data",
          "data": {
            "application/vnd.jupyter.widget-view+json": {
              "model_id": "f33b460a5d4849449117ea42a29fa1cc",
              "version_minor": 0,
              "version_major": 2
            },
            "text/plain": [
              "interactive(children=(Text(value='', description='text'), Output()), _dom_classes=('widget-interact',))"
            ]
          },
          "metadata": {
            "tags": []
          }
        },
        {
          "output_type": "execute_result",
          "data": {
            "text/plain": [
              "<function __main__.predict_text>"
            ]
          },
          "metadata": {
            "tags": []
          },
          "execution_count": 8
        }
      ]
    }
  ]
}